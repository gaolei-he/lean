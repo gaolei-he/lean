{
 "cells": [
  {
   "cell_type": "code",
   "execution_count": 1,
   "metadata": {},
   "outputs": [
    {
     "name": "stderr",
     "output_type": "stream",
     "text": [
      "/home2/wanglei/anaconda3/envs/wanglei/lib/python3.10/site-packages/tqdm/auto.py:21: TqdmWarning: IProgress not found. Please update jupyter and ipywidgets. See https://ipywidgets.readthedocs.io/en/stable/user_install.html\n",
      "  from .autonotebook import tqdm as notebook_tqdm\n",
      "2024-07-05 23:24:21,011\tINFO util.py:154 -- Missing packages: ['ipywidgets']. Run `pip install -U ipywidgets`, then restart the notebook server for rich notebook output.\n"
     ]
    }
   ],
   "source": [
    "import json\n",
    "import heapq\n",
    "import transformers\n",
    "import subprocess\n",
    "import vllm\n",
    "import time\n",
    "from datetime import datetime\n",
    "from tqdm import tqdm, trange\n",
    "from pathlib import Path\n",
    "from Lean4Gym import *\n",
    "# from Lean4Python import *\n",
    "import Lean4Python\n",
    "import transformers"
   ]
  },
  {
   "cell_type": "markdown",
   "metadata": {},
   "source": [
    "##### 指定Lean4的项目环境"
   ]
  },
  {
   "cell_type": "code",
   "execution_count": 2,
   "metadata": {},
   "outputs": [],
   "source": [
    "lean = Lean4Python.Lean4Python(\"/home2/wanglei/Project\")"
   ]
  },
  {
   "cell_type": "markdown",
   "metadata": {},
   "source": [
    "##### 导入文件"
   ]
  },
  {
   "cell_type": "code",
   "execution_count": 3,
   "metadata": {},
   "outputs": [],
   "source": [
    "lean.import_file(\"import Mathlib.Data.Nat.Choose.Sum\")\n",
    "lean.import_file(\"import Mathlib.Data.Real.Basic\")\n",
    "lean.import_file(\"import Mathlib.Data.Finset.LocallyFinite\")\n",
    "lean.import_file(\"open Nat\")\n",
    "lean.import_file(\"open Finset\")\n",
    "lean.import_file(\"open BigOperators\")"
   ]
  },
  {
   "cell_type": "markdown",
   "metadata": {},
   "source": [
    "##### 指定lean4的证明目标"
   ]
  },
  {
   "cell_type": "code",
   "execution_count": 4,
   "metadata": {},
   "outputs": [
    {
     "name": "stdout",
     "output_type": "stream",
     "text": [
      "sid: 0\n",
      "tacticState: n k : ℕ\n",
      "hk : k ≤ n\n",
      "⊢ Nat.choose n (n - k) = Nat.choose n k\n",
      "error: None\n"
     ]
    }
   ],
   "source": [
    "init_state = lean.start_goal(\"{n k : ℕ} (hk : k ≤ n) : choose n (n - k) = choose n k\")\n",
    "init_state.print()"
   ]
  },
  {
   "cell_type": "markdown",
   "metadata": {},
   "source": [
    "##### 执行证明策略"
   ]
  },
  {
   "cell_type": "code",
   "execution_count": 5,
   "metadata": {},
   "outputs": [
    {
     "name": "stdout",
     "output_type": "stream",
     "text": [
      "sid: 1\n",
      "tacticState: n k : ℕ\n",
      "hk : k ≤ n\n",
      "⊢ Nat.choose n (n - k) = n ! / (k ! * (n - k)!)\n",
      "error: None\n"
     ]
    },
    {
     "data": {
      "text/plain": [
       "False"
      ]
     },
     "execution_count": 5,
     "metadata": {},
     "output_type": "execute_result"
    }
   ],
   "source": [
    "state1 = lean.run_tactic(init_state, \"rw[choose_eq_factorial_div_factorial hk]\")\n",
    "state1.print()\n",
    "state1.isFinish()\n"
   ]
  },
  {
   "cell_type": "code",
   "execution_count": 6,
   "metadata": {},
   "outputs": [
    {
     "name": "stdout",
     "output_type": "stream",
     "text": [
      "sid: 2\n",
      "tacticState: n k : ℕ\n",
      "hk : k ≤ n\n",
      "⊢ n ! / ((n - k)! * (n - (n - k))!) = n ! / (k ! * (n - k)!)\n",
      "\n",
      "n k : ℕ\n",
      "hk : k ≤ n\n",
      "⊢ n - k ≤ n\n",
      "error: None\n"
     ]
    },
    {
     "data": {
      "text/plain": [
       "False"
      ]
     },
     "execution_count": 6,
     "metadata": {},
     "output_type": "execute_result"
    }
   ],
   "source": [
    "state2 = lean.run_tactic(state1, \"rw[choose_eq_factorial_div_factorial]\")\n",
    "state2.print()\n",
    "state2.isFinish()"
   ]
  },
  {
   "cell_type": "markdown",
   "metadata": {},
   "source": [
    "##### 指定模型路径并加载模型"
   ]
  },
  {
   "cell_type": "code",
   "execution_count": 7,
   "metadata": {},
   "outputs": [
    {
     "ename": "OSError",
     "evalue": "Incorrect path_or_model_id: '/home/ssm/models/pythia2.8b_choose'. Please provide either the path to a local folder or the repo_id of a model on the Hub.",
     "output_type": "error",
     "traceback": [
      "\u001b[0;31m---------------------------------------------------------------------------\u001b[0m",
      "\u001b[0;31mHFValidationError\u001b[0m                         Traceback (most recent call last)",
      "File \u001b[0;32m~/anaconda3/envs/wanglei/lib/python3.10/site-packages/transformers/utils/hub.py:398\u001b[0m, in \u001b[0;36mcached_file\u001b[0;34m(path_or_repo_id, filename, cache_dir, force_download, resume_download, proxies, token, revision, local_files_only, subfolder, repo_type, user_agent, _raise_exceptions_for_gated_repo, _raise_exceptions_for_missing_entries, _raise_exceptions_for_connection_errors, _commit_hash, **deprecated_kwargs)\u001b[0m\n\u001b[1;32m    396\u001b[0m \u001b[38;5;28;01mtry\u001b[39;00m:\n\u001b[1;32m    397\u001b[0m     \u001b[38;5;66;03m# Load from URL or cache if already cached\u001b[39;00m\n\u001b[0;32m--> 398\u001b[0m     resolved_file \u001b[38;5;241m=\u001b[39m \u001b[43mhf_hub_download\u001b[49m\u001b[43m(\u001b[49m\n\u001b[1;32m    399\u001b[0m \u001b[43m        \u001b[49m\u001b[43mpath_or_repo_id\u001b[49m\u001b[43m,\u001b[49m\n\u001b[1;32m    400\u001b[0m \u001b[43m        \u001b[49m\u001b[43mfilename\u001b[49m\u001b[43m,\u001b[49m\n\u001b[1;32m    401\u001b[0m \u001b[43m        \u001b[49m\u001b[43msubfolder\u001b[49m\u001b[38;5;241;43m=\u001b[39;49m\u001b[38;5;28;43;01mNone\u001b[39;49;00m\u001b[43m \u001b[49m\u001b[38;5;28;43;01mif\u001b[39;49;00m\u001b[43m \u001b[49m\u001b[38;5;28;43mlen\u001b[39;49m\u001b[43m(\u001b[49m\u001b[43msubfolder\u001b[49m\u001b[43m)\u001b[49m\u001b[43m \u001b[49m\u001b[38;5;241;43m==\u001b[39;49m\u001b[43m \u001b[49m\u001b[38;5;241;43m0\u001b[39;49m\u001b[43m \u001b[49m\u001b[38;5;28;43;01melse\u001b[39;49;00m\u001b[43m \u001b[49m\u001b[43msubfolder\u001b[49m\u001b[43m,\u001b[49m\n\u001b[1;32m    402\u001b[0m \u001b[43m        \u001b[49m\u001b[43mrepo_type\u001b[49m\u001b[38;5;241;43m=\u001b[39;49m\u001b[43mrepo_type\u001b[49m\u001b[43m,\u001b[49m\n\u001b[1;32m    403\u001b[0m \u001b[43m        \u001b[49m\u001b[43mrevision\u001b[49m\u001b[38;5;241;43m=\u001b[39;49m\u001b[43mrevision\u001b[49m\u001b[43m,\u001b[49m\n\u001b[1;32m    404\u001b[0m \u001b[43m        \u001b[49m\u001b[43mcache_dir\u001b[49m\u001b[38;5;241;43m=\u001b[39;49m\u001b[43mcache_dir\u001b[49m\u001b[43m,\u001b[49m\n\u001b[1;32m    405\u001b[0m \u001b[43m        \u001b[49m\u001b[43muser_agent\u001b[49m\u001b[38;5;241;43m=\u001b[39;49m\u001b[43muser_agent\u001b[49m\u001b[43m,\u001b[49m\n\u001b[1;32m    406\u001b[0m \u001b[43m        \u001b[49m\u001b[43mforce_download\u001b[49m\u001b[38;5;241;43m=\u001b[39;49m\u001b[43mforce_download\u001b[49m\u001b[43m,\u001b[49m\n\u001b[1;32m    407\u001b[0m \u001b[43m        \u001b[49m\u001b[43mproxies\u001b[49m\u001b[38;5;241;43m=\u001b[39;49m\u001b[43mproxies\u001b[49m\u001b[43m,\u001b[49m\n\u001b[1;32m    408\u001b[0m \u001b[43m        \u001b[49m\u001b[43mresume_download\u001b[49m\u001b[38;5;241;43m=\u001b[39;49m\u001b[43mresume_download\u001b[49m\u001b[43m,\u001b[49m\n\u001b[1;32m    409\u001b[0m \u001b[43m        \u001b[49m\u001b[43mtoken\u001b[49m\u001b[38;5;241;43m=\u001b[39;49m\u001b[43mtoken\u001b[49m\u001b[43m,\u001b[49m\n\u001b[1;32m    410\u001b[0m \u001b[43m        \u001b[49m\u001b[43mlocal_files_only\u001b[49m\u001b[38;5;241;43m=\u001b[39;49m\u001b[43mlocal_files_only\u001b[49m\u001b[43m,\u001b[49m\n\u001b[1;32m    411\u001b[0m \u001b[43m    \u001b[49m\u001b[43m)\u001b[49m\n\u001b[1;32m    412\u001b[0m \u001b[38;5;28;01mexcept\u001b[39;00m GatedRepoError \u001b[38;5;28;01mas\u001b[39;00m e:\n",
      "File \u001b[0;32m~/anaconda3/envs/wanglei/lib/python3.10/site-packages/huggingface_hub/utils/_validators.py:111\u001b[0m, in \u001b[0;36mvalidate_hf_hub_args.<locals>._inner_fn\u001b[0;34m(*args, **kwargs)\u001b[0m\n\u001b[1;32m    110\u001b[0m \u001b[38;5;28;01mif\u001b[39;00m arg_name \u001b[38;5;129;01min\u001b[39;00m [\u001b[38;5;124m\"\u001b[39m\u001b[38;5;124mrepo_id\u001b[39m\u001b[38;5;124m\"\u001b[39m, \u001b[38;5;124m\"\u001b[39m\u001b[38;5;124mfrom_id\u001b[39m\u001b[38;5;124m\"\u001b[39m, \u001b[38;5;124m\"\u001b[39m\u001b[38;5;124mto_id\u001b[39m\u001b[38;5;124m\"\u001b[39m]:\n\u001b[0;32m--> 111\u001b[0m     \u001b[43mvalidate_repo_id\u001b[49m\u001b[43m(\u001b[49m\u001b[43marg_value\u001b[49m\u001b[43m)\u001b[49m\n\u001b[1;32m    113\u001b[0m \u001b[38;5;28;01melif\u001b[39;00m arg_name \u001b[38;5;241m==\u001b[39m \u001b[38;5;124m\"\u001b[39m\u001b[38;5;124mtoken\u001b[39m\u001b[38;5;124m\"\u001b[39m \u001b[38;5;129;01mand\u001b[39;00m arg_value \u001b[38;5;129;01mis\u001b[39;00m \u001b[38;5;129;01mnot\u001b[39;00m \u001b[38;5;28;01mNone\u001b[39;00m:\n",
      "File \u001b[0;32m~/anaconda3/envs/wanglei/lib/python3.10/site-packages/huggingface_hub/utils/_validators.py:159\u001b[0m, in \u001b[0;36mvalidate_repo_id\u001b[0;34m(repo_id)\u001b[0m\n\u001b[1;32m    158\u001b[0m \u001b[38;5;28;01mif\u001b[39;00m repo_id\u001b[38;5;241m.\u001b[39mcount(\u001b[38;5;124m\"\u001b[39m\u001b[38;5;124m/\u001b[39m\u001b[38;5;124m\"\u001b[39m) \u001b[38;5;241m>\u001b[39m \u001b[38;5;241m1\u001b[39m:\n\u001b[0;32m--> 159\u001b[0m     \u001b[38;5;28;01mraise\u001b[39;00m HFValidationError(\n\u001b[1;32m    160\u001b[0m         \u001b[38;5;124m\"\u001b[39m\u001b[38;5;124mRepo id must be in the form \u001b[39m\u001b[38;5;124m'\u001b[39m\u001b[38;5;124mrepo_name\u001b[39m\u001b[38;5;124m'\u001b[39m\u001b[38;5;124m or \u001b[39m\u001b[38;5;124m'\u001b[39m\u001b[38;5;124mnamespace/repo_name\u001b[39m\u001b[38;5;124m'\u001b[39m\u001b[38;5;124m:\u001b[39m\u001b[38;5;124m\"\u001b[39m\n\u001b[1;32m    161\u001b[0m         \u001b[38;5;124mf\u001b[39m\u001b[38;5;124m\"\u001b[39m\u001b[38;5;124m \u001b[39m\u001b[38;5;124m'\u001b[39m\u001b[38;5;132;01m{\u001b[39;00mrepo_id\u001b[38;5;132;01m}\u001b[39;00m\u001b[38;5;124m'\u001b[39m\u001b[38;5;124m. Use `repo_type` argument if needed.\u001b[39m\u001b[38;5;124m\"\u001b[39m\n\u001b[1;32m    162\u001b[0m     )\n\u001b[1;32m    164\u001b[0m \u001b[38;5;28;01mif\u001b[39;00m \u001b[38;5;129;01mnot\u001b[39;00m REPO_ID_REGEX\u001b[38;5;241m.\u001b[39mmatch(repo_id):\n",
      "\u001b[0;31mHFValidationError\u001b[0m: Repo id must be in the form 'repo_name' or 'namespace/repo_name': '/home/ssm/models/pythia2.8b_choose'. Use `repo_type` argument if needed.",
      "\nThe above exception was the direct cause of the following exception:\n",
      "\u001b[0;31mOSError\u001b[0m                                   Traceback (most recent call last)",
      "Cell \u001b[0;32mIn[7], line 4\u001b[0m\n\u001b[1;32m      2\u001b[0m os\u001b[38;5;241m.\u001b[39menviron[\u001b[38;5;124m'\u001b[39m\u001b[38;5;124mCUDA_VISIBLE_DEVICES\u001b[39m\u001b[38;5;124m'\u001b[39m] \u001b[38;5;241m=\u001b[39m \u001b[38;5;124m'\u001b[39m\u001b[38;5;124m1\u001b[39m\u001b[38;5;124m'\u001b[39m\n\u001b[1;32m      3\u001b[0m model_name_or_path \u001b[38;5;241m=\u001b[39m \u001b[38;5;124m\"\u001b[39m\u001b[38;5;124m/home/ssm/models/pythia2.8b_choose\u001b[39m\u001b[38;5;124m\"\u001b[39m\n\u001b[0;32m----> 4\u001b[0m model \u001b[38;5;241m=\u001b[39m \u001b[43mvllm\u001b[49m\u001b[38;5;241;43m.\u001b[39;49m\u001b[43mLLM\u001b[49m\u001b[43m(\u001b[49m\n\u001b[1;32m      5\u001b[0m \u001b[43m    \u001b[49m\u001b[43mmodel\u001b[49m\u001b[38;5;241;43m=\u001b[39;49m\u001b[43mmodel_name_or_path\u001b[49m\u001b[43m,\u001b[49m\n\u001b[1;32m      6\u001b[0m \u001b[43m    \u001b[49m\u001b[43mtensor_parallel_size\u001b[49m\u001b[38;5;241;43m=\u001b[39;49m\u001b[38;5;241;43m1\u001b[39;49m\u001b[43m,\u001b[49m\n\u001b[1;32m      7\u001b[0m \u001b[43m    \u001b[49m\u001b[43mtrust_remote_code\u001b[49m\u001b[38;5;241;43m=\u001b[39;49m\u001b[38;5;28;43;01mTrue\u001b[39;49;00m\u001b[43m,\u001b[49m\n\u001b[1;32m      8\u001b[0m \u001b[43m    \u001b[49m\u001b[43mgpu_memory_utilization\u001b[49m\u001b[38;5;241;43m=\u001b[39;49m\u001b[38;5;241;43m0.5\u001b[39;49m\u001b[43m,\u001b[49m\n\u001b[1;32m      9\u001b[0m \u001b[43m    \u001b[49m\u001b[43mdtype\u001b[49m\u001b[38;5;241;43m=\u001b[39;49m\u001b[38;5;124;43m'\u001b[39;49m\u001b[38;5;124;43mfloat16\u001b[39;49m\u001b[38;5;124;43m'\u001b[39;49m\n\u001b[1;32m     10\u001b[0m \u001b[43m)\u001b[49m\n\u001b[1;32m     11\u001b[0m tokenizer \u001b[38;5;241m=\u001b[39m transformers\u001b[38;5;241m.\u001b[39mGPTNeoXTokenizerFast\u001b[38;5;241m.\u001b[39mfrom_pretrained(model_name_or_path)\n",
      "File \u001b[0;32m~/anaconda3/envs/wanglei/lib/python3.10/site-packages/vllm/entrypoints/llm.py:112\u001b[0m, in \u001b[0;36mLLM.__init__\u001b[0;34m(self, model, tokenizer, tokenizer_mode, trust_remote_code, tensor_parallel_size, dtype, quantization, revision, tokenizer_revision, seed, gpu_memory_utilization, swap_space, enforce_eager, max_context_len_to_capture, disable_custom_all_reduce, **kwargs)\u001b[0m\n\u001b[1;32m     93\u001b[0m     kwargs[\u001b[38;5;124m\"\u001b[39m\u001b[38;5;124mdisable_log_stats\u001b[39m\u001b[38;5;124m\"\u001b[39m] \u001b[38;5;241m=\u001b[39m \u001b[38;5;28;01mTrue\u001b[39;00m\n\u001b[1;32m     94\u001b[0m engine_args \u001b[38;5;241m=\u001b[39m EngineArgs(\n\u001b[1;32m     95\u001b[0m     model\u001b[38;5;241m=\u001b[39mmodel,\n\u001b[1;32m     96\u001b[0m     tokenizer\u001b[38;5;241m=\u001b[39mtokenizer,\n\u001b[0;32m   (...)\u001b[0m\n\u001b[1;32m    110\u001b[0m     \u001b[38;5;241m*\u001b[39m\u001b[38;5;241m*\u001b[39mkwargs,\n\u001b[1;32m    111\u001b[0m )\n\u001b[0;32m--> 112\u001b[0m \u001b[38;5;28mself\u001b[39m\u001b[38;5;241m.\u001b[39mllm_engine \u001b[38;5;241m=\u001b[39m \u001b[43mLLMEngine\u001b[49m\u001b[38;5;241;43m.\u001b[39;49m\u001b[43mfrom_engine_args\u001b[49m\u001b[43m(\u001b[49m\n\u001b[1;32m    113\u001b[0m \u001b[43m    \u001b[49m\u001b[43mengine_args\u001b[49m\u001b[43m,\u001b[49m\u001b[43m \u001b[49m\u001b[43musage_context\u001b[49m\u001b[38;5;241;43m=\u001b[39;49m\u001b[43mUsageContext\u001b[49m\u001b[38;5;241;43m.\u001b[39;49m\u001b[43mLLM_CLASS\u001b[49m\u001b[43m)\u001b[49m\n\u001b[1;32m    114\u001b[0m \u001b[38;5;28mself\u001b[39m\u001b[38;5;241m.\u001b[39mrequest_counter \u001b[38;5;241m=\u001b[39m Counter()\n",
      "File \u001b[0;32m~/anaconda3/envs/wanglei/lib/python3.10/site-packages/vllm/engine/llm_engine.py:174\u001b[0m, in \u001b[0;36mLLMEngine.from_engine_args\u001b[0;34m(cls, engine_args, usage_context)\u001b[0m\n\u001b[1;32m    172\u001b[0m \u001b[38;5;250m\u001b[39m\u001b[38;5;124;03m\"\"\"Creates an LLM engine from the engine arguments.\"\"\"\u001b[39;00m\n\u001b[1;32m    173\u001b[0m \u001b[38;5;66;03m# Create the engine configs.\u001b[39;00m\n\u001b[0;32m--> 174\u001b[0m engine_configs \u001b[38;5;241m=\u001b[39m \u001b[43mengine_args\u001b[49m\u001b[38;5;241;43m.\u001b[39;49m\u001b[43mcreate_engine_configs\u001b[49m\u001b[43m(\u001b[49m\u001b[43m)\u001b[49m\n\u001b[1;32m    175\u001b[0m parallel_config \u001b[38;5;241m=\u001b[39m engine_configs[\u001b[38;5;241m2\u001b[39m]\n\u001b[1;32m    176\u001b[0m device_config \u001b[38;5;241m=\u001b[39m engine_configs[\u001b[38;5;241m4\u001b[39m]\n",
      "File \u001b[0;32m~/anaconda3/envs/wanglei/lib/python3.10/site-packages/vllm/engine/arg_utils.py:390\u001b[0m, in \u001b[0;36mEngineArgs.create_engine_configs\u001b[0;34m(self)\u001b[0m\n\u001b[1;32m    384\u001b[0m \u001b[38;5;28;01mdef\u001b[39;00m \u001b[38;5;21mcreate_engine_configs\u001b[39m(\n\u001b[1;32m    385\u001b[0m     \u001b[38;5;28mself\u001b[39m,\n\u001b[1;32m    386\u001b[0m ) \u001b[38;5;241m-\u001b[39m\u001b[38;5;241m>\u001b[39m Tuple[ModelConfig, CacheConfig, ParallelConfig, SchedulerConfig,\n\u001b[1;32m    387\u001b[0m            DeviceConfig, Optional[LoRAConfig],\n\u001b[1;32m    388\u001b[0m            Optional[VisionLanguageConfig]]:\n\u001b[1;32m    389\u001b[0m     device_config \u001b[38;5;241m=\u001b[39m DeviceConfig(\u001b[38;5;28mself\u001b[39m\u001b[38;5;241m.\u001b[39mdevice)\n\u001b[0;32m--> 390\u001b[0m     model_config \u001b[38;5;241m=\u001b[39m \u001b[43mModelConfig\u001b[49m\u001b[43m(\u001b[49m\n\u001b[1;32m    391\u001b[0m \u001b[43m        \u001b[49m\u001b[38;5;28;43mself\u001b[39;49m\u001b[38;5;241;43m.\u001b[39;49m\u001b[43mmodel\u001b[49m\u001b[43m,\u001b[49m\u001b[43m \u001b[49m\u001b[38;5;28;43mself\u001b[39;49m\u001b[38;5;241;43m.\u001b[39;49m\u001b[43mtokenizer\u001b[49m\u001b[43m,\u001b[49m\u001b[43m \u001b[49m\u001b[38;5;28;43mself\u001b[39;49m\u001b[38;5;241;43m.\u001b[39;49m\u001b[43mtokenizer_mode\u001b[49m\u001b[43m,\u001b[49m\n\u001b[1;32m    392\u001b[0m \u001b[43m        \u001b[49m\u001b[38;5;28;43mself\u001b[39;49m\u001b[38;5;241;43m.\u001b[39;49m\u001b[43mtrust_remote_code\u001b[49m\u001b[43m,\u001b[49m\u001b[43m \u001b[49m\u001b[38;5;28;43mself\u001b[39;49m\u001b[38;5;241;43m.\u001b[39;49m\u001b[43mdownload_dir\u001b[49m\u001b[43m,\u001b[49m\u001b[43m \u001b[49m\u001b[38;5;28;43mself\u001b[39;49m\u001b[38;5;241;43m.\u001b[39;49m\u001b[43mload_format\u001b[49m\u001b[43m,\u001b[49m\n\u001b[1;32m    393\u001b[0m \u001b[43m        \u001b[49m\u001b[38;5;28;43mself\u001b[39;49m\u001b[38;5;241;43m.\u001b[39;49m\u001b[43mdtype\u001b[49m\u001b[43m,\u001b[49m\u001b[43m \u001b[49m\u001b[38;5;28;43mself\u001b[39;49m\u001b[38;5;241;43m.\u001b[39;49m\u001b[43mseed\u001b[49m\u001b[43m,\u001b[49m\u001b[43m \u001b[49m\u001b[38;5;28;43mself\u001b[39;49m\u001b[38;5;241;43m.\u001b[39;49m\u001b[43mrevision\u001b[49m\u001b[43m,\u001b[49m\u001b[43m \u001b[49m\u001b[38;5;28;43mself\u001b[39;49m\u001b[38;5;241;43m.\u001b[39;49m\u001b[43mcode_revision\u001b[49m\u001b[43m,\u001b[49m\n\u001b[1;32m    394\u001b[0m \u001b[43m        \u001b[49m\u001b[38;5;28;43mself\u001b[39;49m\u001b[38;5;241;43m.\u001b[39;49m\u001b[43mtokenizer_revision\u001b[49m\u001b[43m,\u001b[49m\u001b[43m \u001b[49m\u001b[38;5;28;43mself\u001b[39;49m\u001b[38;5;241;43m.\u001b[39;49m\u001b[43mmax_model_len\u001b[49m\u001b[43m,\u001b[49m\u001b[43m \u001b[49m\u001b[38;5;28;43mself\u001b[39;49m\u001b[38;5;241;43m.\u001b[39;49m\u001b[43mquantization\u001b[49m\u001b[43m,\u001b[49m\n\u001b[1;32m    395\u001b[0m \u001b[43m        \u001b[49m\u001b[38;5;28;43mself\u001b[39;49m\u001b[38;5;241;43m.\u001b[39;49m\u001b[43menforce_eager\u001b[49m\u001b[43m,\u001b[49m\u001b[43m \u001b[49m\u001b[38;5;28;43mself\u001b[39;49m\u001b[38;5;241;43m.\u001b[39;49m\u001b[43mmax_context_len_to_capture\u001b[49m\u001b[43m,\u001b[49m\n\u001b[1;32m    396\u001b[0m \u001b[43m        \u001b[49m\u001b[38;5;28;43mself\u001b[39;49m\u001b[38;5;241;43m.\u001b[39;49m\u001b[43mmax_logprobs\u001b[49m\u001b[43m)\u001b[49m\n\u001b[1;32m    397\u001b[0m     cache_config \u001b[38;5;241m=\u001b[39m CacheConfig(\u001b[38;5;28mself\u001b[39m\u001b[38;5;241m.\u001b[39mblock_size,\n\u001b[1;32m    398\u001b[0m                                \u001b[38;5;28mself\u001b[39m\u001b[38;5;241m.\u001b[39mgpu_memory_utilization,\n\u001b[1;32m    399\u001b[0m                                \u001b[38;5;28mself\u001b[39m\u001b[38;5;241m.\u001b[39mswap_space, \u001b[38;5;28mself\u001b[39m\u001b[38;5;241m.\u001b[39mkv_cache_dtype,\n\u001b[1;32m    400\u001b[0m                                \u001b[38;5;28mself\u001b[39m\u001b[38;5;241m.\u001b[39mforced_num_gpu_blocks,\n\u001b[1;32m    401\u001b[0m                                model_config\u001b[38;5;241m.\u001b[39mget_sliding_window(),\n\u001b[1;32m    402\u001b[0m                                \u001b[38;5;28mself\u001b[39m\u001b[38;5;241m.\u001b[39menable_prefix_caching)\n\u001b[1;32m    403\u001b[0m     parallel_config \u001b[38;5;241m=\u001b[39m ParallelConfig(\n\u001b[1;32m    404\u001b[0m         \u001b[38;5;28mself\u001b[39m\u001b[38;5;241m.\u001b[39mpipeline_parallel_size, \u001b[38;5;28mself\u001b[39m\u001b[38;5;241m.\u001b[39mtensor_parallel_size,\n\u001b[1;32m    405\u001b[0m         \u001b[38;5;28mself\u001b[39m\u001b[38;5;241m.\u001b[39mworker_use_ray, \u001b[38;5;28mself\u001b[39m\u001b[38;5;241m.\u001b[39mmax_parallel_loading_workers,\n\u001b[0;32m   (...)\u001b[0m\n\u001b[1;32m    410\u001b[0m             \u001b[38;5;28mself\u001b[39m\u001b[38;5;241m.\u001b[39mtokenizer_pool_extra_config,\n\u001b[1;32m    411\u001b[0m         ), \u001b[38;5;28mself\u001b[39m\u001b[38;5;241m.\u001b[39mray_workers_use_nsight)\n",
      "File \u001b[0;32m~/anaconda3/envs/wanglei/lib/python3.10/site-packages/vllm/config.py:121\u001b[0m, in \u001b[0;36mModelConfig.__init__\u001b[0;34m(self, model, tokenizer, tokenizer_mode, trust_remote_code, download_dir, load_format, dtype, seed, revision, code_revision, tokenizer_revision, max_model_len, quantization, enforce_eager, max_context_len_to_capture, max_logprobs)\u001b[0m\n\u001b[1;32m    118\u001b[0m     \u001b[38;5;28mself\u001b[39m\u001b[38;5;241m.\u001b[39mdownload_dir \u001b[38;5;241m=\u001b[39m model_path\n\u001b[1;32m    119\u001b[0m     \u001b[38;5;28mself\u001b[39m\u001b[38;5;241m.\u001b[39mtokenizer \u001b[38;5;241m=\u001b[39m model_path\n\u001b[0;32m--> 121\u001b[0m \u001b[38;5;28mself\u001b[39m\u001b[38;5;241m.\u001b[39mhf_config \u001b[38;5;241m=\u001b[39m \u001b[43mget_config\u001b[49m\u001b[43m(\u001b[49m\u001b[38;5;28;43mself\u001b[39;49m\u001b[38;5;241;43m.\u001b[39;49m\u001b[43mmodel\u001b[49m\u001b[43m,\u001b[49m\u001b[43m \u001b[49m\u001b[43mtrust_remote_code\u001b[49m\u001b[43m,\u001b[49m\u001b[43m \u001b[49m\u001b[43mrevision\u001b[49m\u001b[43m,\u001b[49m\n\u001b[1;32m    122\u001b[0m \u001b[43m                            \u001b[49m\u001b[43mcode_revision\u001b[49m\u001b[43m)\u001b[49m\n\u001b[1;32m    123\u001b[0m \u001b[38;5;28mself\u001b[39m\u001b[38;5;241m.\u001b[39mhf_text_config \u001b[38;5;241m=\u001b[39m get_hf_text_config(\u001b[38;5;28mself\u001b[39m\u001b[38;5;241m.\u001b[39mhf_config)\n\u001b[1;32m    124\u001b[0m \u001b[38;5;28mself\u001b[39m\u001b[38;5;241m.\u001b[39mdtype \u001b[38;5;241m=\u001b[39m _get_and_verify_dtype(\u001b[38;5;28mself\u001b[39m\u001b[38;5;241m.\u001b[39mhf_text_config, dtype)\n",
      "File \u001b[0;32m~/anaconda3/envs/wanglei/lib/python3.10/site-packages/vllm/transformers_utils/config.py:22\u001b[0m, in \u001b[0;36mget_config\u001b[0;34m(model, trust_remote_code, revision, code_revision)\u001b[0m\n\u001b[1;32m     17\u001b[0m \u001b[38;5;28;01mdef\u001b[39;00m \u001b[38;5;21mget_config\u001b[39m(model: \u001b[38;5;28mstr\u001b[39m,\n\u001b[1;32m     18\u001b[0m                trust_remote_code: \u001b[38;5;28mbool\u001b[39m,\n\u001b[1;32m     19\u001b[0m                revision: Optional[\u001b[38;5;28mstr\u001b[39m] \u001b[38;5;241m=\u001b[39m \u001b[38;5;28;01mNone\u001b[39;00m,\n\u001b[1;32m     20\u001b[0m                code_revision: Optional[\u001b[38;5;28mstr\u001b[39m] \u001b[38;5;241m=\u001b[39m \u001b[38;5;28;01mNone\u001b[39;00m) \u001b[38;5;241m-\u001b[39m\u001b[38;5;241m>\u001b[39m PretrainedConfig:\n\u001b[1;32m     21\u001b[0m     \u001b[38;5;28;01mtry\u001b[39;00m:\n\u001b[0;32m---> 22\u001b[0m         config \u001b[38;5;241m=\u001b[39m \u001b[43mAutoConfig\u001b[49m\u001b[38;5;241;43m.\u001b[39;49m\u001b[43mfrom_pretrained\u001b[49m\u001b[43m(\u001b[49m\n\u001b[1;32m     23\u001b[0m \u001b[43m            \u001b[49m\u001b[43mmodel\u001b[49m\u001b[43m,\u001b[49m\n\u001b[1;32m     24\u001b[0m \u001b[43m            \u001b[49m\u001b[43mtrust_remote_code\u001b[49m\u001b[38;5;241;43m=\u001b[39;49m\u001b[43mtrust_remote_code\u001b[49m\u001b[43m,\u001b[49m\n\u001b[1;32m     25\u001b[0m \u001b[43m            \u001b[49m\u001b[43mrevision\u001b[49m\u001b[38;5;241;43m=\u001b[39;49m\u001b[43mrevision\u001b[49m\u001b[43m,\u001b[49m\n\u001b[1;32m     26\u001b[0m \u001b[43m            \u001b[49m\u001b[43mcode_revision\u001b[49m\u001b[38;5;241;43m=\u001b[39;49m\u001b[43mcode_revision\u001b[49m\u001b[43m)\u001b[49m\n\u001b[1;32m     27\u001b[0m     \u001b[38;5;28;01mexcept\u001b[39;00m \u001b[38;5;167;01mValueError\u001b[39;00m \u001b[38;5;28;01mas\u001b[39;00m e:\n\u001b[1;32m     28\u001b[0m         \u001b[38;5;28;01mif\u001b[39;00m (\u001b[38;5;129;01mnot\u001b[39;00m trust_remote_code \u001b[38;5;129;01mand\u001b[39;00m\n\u001b[1;32m     29\u001b[0m                 \u001b[38;5;124m\"\u001b[39m\u001b[38;5;124mrequires you to execute the configuration file\u001b[39m\u001b[38;5;124m\"\u001b[39m \u001b[38;5;129;01min\u001b[39;00m \u001b[38;5;28mstr\u001b[39m(e)):\n",
      "File \u001b[0;32m~/anaconda3/envs/wanglei/lib/python3.10/site-packages/transformers/models/auto/configuration_auto.py:1138\u001b[0m, in \u001b[0;36mAutoConfig.from_pretrained\u001b[0;34m(cls, pretrained_model_name_or_path, **kwargs)\u001b[0m\n\u001b[1;32m   1135\u001b[0m trust_remote_code \u001b[38;5;241m=\u001b[39m kwargs\u001b[38;5;241m.\u001b[39mpop(\u001b[38;5;124m\"\u001b[39m\u001b[38;5;124mtrust_remote_code\u001b[39m\u001b[38;5;124m\"\u001b[39m, \u001b[38;5;28;01mNone\u001b[39;00m)\n\u001b[1;32m   1136\u001b[0m code_revision \u001b[38;5;241m=\u001b[39m kwargs\u001b[38;5;241m.\u001b[39mpop(\u001b[38;5;124m\"\u001b[39m\u001b[38;5;124mcode_revision\u001b[39m\u001b[38;5;124m\"\u001b[39m, \u001b[38;5;28;01mNone\u001b[39;00m)\n\u001b[0;32m-> 1138\u001b[0m config_dict, unused_kwargs \u001b[38;5;241m=\u001b[39m \u001b[43mPretrainedConfig\u001b[49m\u001b[38;5;241;43m.\u001b[39;49m\u001b[43mget_config_dict\u001b[49m\u001b[43m(\u001b[49m\u001b[43mpretrained_model_name_or_path\u001b[49m\u001b[43m,\u001b[49m\u001b[43m \u001b[49m\u001b[38;5;241;43m*\u001b[39;49m\u001b[38;5;241;43m*\u001b[39;49m\u001b[43mkwargs\u001b[49m\u001b[43m)\u001b[49m\n\u001b[1;32m   1139\u001b[0m has_remote_code \u001b[38;5;241m=\u001b[39m \u001b[38;5;124m\"\u001b[39m\u001b[38;5;124mauto_map\u001b[39m\u001b[38;5;124m\"\u001b[39m \u001b[38;5;129;01min\u001b[39;00m config_dict \u001b[38;5;129;01mand\u001b[39;00m \u001b[38;5;124m\"\u001b[39m\u001b[38;5;124mAutoConfig\u001b[39m\u001b[38;5;124m\"\u001b[39m \u001b[38;5;129;01min\u001b[39;00m config_dict[\u001b[38;5;124m\"\u001b[39m\u001b[38;5;124mauto_map\u001b[39m\u001b[38;5;124m\"\u001b[39m]\n\u001b[1;32m   1140\u001b[0m has_local_code \u001b[38;5;241m=\u001b[39m \u001b[38;5;124m\"\u001b[39m\u001b[38;5;124mmodel_type\u001b[39m\u001b[38;5;124m\"\u001b[39m \u001b[38;5;129;01min\u001b[39;00m config_dict \u001b[38;5;129;01mand\u001b[39;00m config_dict[\u001b[38;5;124m\"\u001b[39m\u001b[38;5;124mmodel_type\u001b[39m\u001b[38;5;124m\"\u001b[39m] \u001b[38;5;129;01min\u001b[39;00m CONFIG_MAPPING\n",
      "File \u001b[0;32m~/anaconda3/envs/wanglei/lib/python3.10/site-packages/transformers/configuration_utils.py:631\u001b[0m, in \u001b[0;36mPretrainedConfig.get_config_dict\u001b[0;34m(cls, pretrained_model_name_or_path, **kwargs)\u001b[0m\n\u001b[1;32m    629\u001b[0m original_kwargs \u001b[38;5;241m=\u001b[39m copy\u001b[38;5;241m.\u001b[39mdeepcopy(kwargs)\n\u001b[1;32m    630\u001b[0m \u001b[38;5;66;03m# Get config dict associated with the base config file\u001b[39;00m\n\u001b[0;32m--> 631\u001b[0m config_dict, kwargs \u001b[38;5;241m=\u001b[39m \u001b[38;5;28;43mcls\u001b[39;49m\u001b[38;5;241;43m.\u001b[39;49m\u001b[43m_get_config_dict\u001b[49m\u001b[43m(\u001b[49m\u001b[43mpretrained_model_name_or_path\u001b[49m\u001b[43m,\u001b[49m\u001b[43m \u001b[49m\u001b[38;5;241;43m*\u001b[39;49m\u001b[38;5;241;43m*\u001b[39;49m\u001b[43mkwargs\u001b[49m\u001b[43m)\u001b[49m\n\u001b[1;32m    632\u001b[0m \u001b[38;5;28;01mif\u001b[39;00m \u001b[38;5;124m\"\u001b[39m\u001b[38;5;124m_commit_hash\u001b[39m\u001b[38;5;124m\"\u001b[39m \u001b[38;5;129;01min\u001b[39;00m config_dict:\n\u001b[1;32m    633\u001b[0m     original_kwargs[\u001b[38;5;124m\"\u001b[39m\u001b[38;5;124m_commit_hash\u001b[39m\u001b[38;5;124m\"\u001b[39m] \u001b[38;5;241m=\u001b[39m config_dict[\u001b[38;5;124m\"\u001b[39m\u001b[38;5;124m_commit_hash\u001b[39m\u001b[38;5;124m\"\u001b[39m]\n",
      "File \u001b[0;32m~/anaconda3/envs/wanglei/lib/python3.10/site-packages/transformers/configuration_utils.py:686\u001b[0m, in \u001b[0;36mPretrainedConfig._get_config_dict\u001b[0;34m(cls, pretrained_model_name_or_path, **kwargs)\u001b[0m\n\u001b[1;32m    682\u001b[0m configuration_file \u001b[38;5;241m=\u001b[39m kwargs\u001b[38;5;241m.\u001b[39mpop(\u001b[38;5;124m\"\u001b[39m\u001b[38;5;124m_configuration_file\u001b[39m\u001b[38;5;124m\"\u001b[39m, CONFIG_NAME)\n\u001b[1;32m    684\u001b[0m \u001b[38;5;28;01mtry\u001b[39;00m:\n\u001b[1;32m    685\u001b[0m     \u001b[38;5;66;03m# Load from local folder or from cache or download from model Hub and cache\u001b[39;00m\n\u001b[0;32m--> 686\u001b[0m     resolved_config_file \u001b[38;5;241m=\u001b[39m \u001b[43mcached_file\u001b[49m\u001b[43m(\u001b[49m\n\u001b[1;32m    687\u001b[0m \u001b[43m        \u001b[49m\u001b[43mpretrained_model_name_or_path\u001b[49m\u001b[43m,\u001b[49m\n\u001b[1;32m    688\u001b[0m \u001b[43m        \u001b[49m\u001b[43mconfiguration_file\u001b[49m\u001b[43m,\u001b[49m\n\u001b[1;32m    689\u001b[0m \u001b[43m        \u001b[49m\u001b[43mcache_dir\u001b[49m\u001b[38;5;241;43m=\u001b[39;49m\u001b[43mcache_dir\u001b[49m\u001b[43m,\u001b[49m\n\u001b[1;32m    690\u001b[0m \u001b[43m        \u001b[49m\u001b[43mforce_download\u001b[49m\u001b[38;5;241;43m=\u001b[39;49m\u001b[43mforce_download\u001b[49m\u001b[43m,\u001b[49m\n\u001b[1;32m    691\u001b[0m \u001b[43m        \u001b[49m\u001b[43mproxies\u001b[49m\u001b[38;5;241;43m=\u001b[39;49m\u001b[43mproxies\u001b[49m\u001b[43m,\u001b[49m\n\u001b[1;32m    692\u001b[0m \u001b[43m        \u001b[49m\u001b[43mresume_download\u001b[49m\u001b[38;5;241;43m=\u001b[39;49m\u001b[43mresume_download\u001b[49m\u001b[43m,\u001b[49m\n\u001b[1;32m    693\u001b[0m \u001b[43m        \u001b[49m\u001b[43mlocal_files_only\u001b[49m\u001b[38;5;241;43m=\u001b[39;49m\u001b[43mlocal_files_only\u001b[49m\u001b[43m,\u001b[49m\n\u001b[1;32m    694\u001b[0m \u001b[43m        \u001b[49m\u001b[43mtoken\u001b[49m\u001b[38;5;241;43m=\u001b[39;49m\u001b[43mtoken\u001b[49m\u001b[43m,\u001b[49m\n\u001b[1;32m    695\u001b[0m \u001b[43m        \u001b[49m\u001b[43muser_agent\u001b[49m\u001b[38;5;241;43m=\u001b[39;49m\u001b[43muser_agent\u001b[49m\u001b[43m,\u001b[49m\n\u001b[1;32m    696\u001b[0m \u001b[43m        \u001b[49m\u001b[43mrevision\u001b[49m\u001b[38;5;241;43m=\u001b[39;49m\u001b[43mrevision\u001b[49m\u001b[43m,\u001b[49m\n\u001b[1;32m    697\u001b[0m \u001b[43m        \u001b[49m\u001b[43msubfolder\u001b[49m\u001b[38;5;241;43m=\u001b[39;49m\u001b[43msubfolder\u001b[49m\u001b[43m,\u001b[49m\n\u001b[1;32m    698\u001b[0m \u001b[43m        \u001b[49m\u001b[43m_commit_hash\u001b[49m\u001b[38;5;241;43m=\u001b[39;49m\u001b[43mcommit_hash\u001b[49m\u001b[43m,\u001b[49m\n\u001b[1;32m    699\u001b[0m \u001b[43m    \u001b[49m\u001b[43m)\u001b[49m\n\u001b[1;32m    700\u001b[0m     commit_hash \u001b[38;5;241m=\u001b[39m extract_commit_hash(resolved_config_file, commit_hash)\n\u001b[1;32m    701\u001b[0m \u001b[38;5;28;01mexcept\u001b[39;00m \u001b[38;5;167;01mEnvironmentError\u001b[39;00m:\n\u001b[1;32m    702\u001b[0m     \u001b[38;5;66;03m# Raise any environment error raise by `cached_file`. It will have a helpful error message adapted to\u001b[39;00m\n\u001b[1;32m    703\u001b[0m     \u001b[38;5;66;03m# the original exception.\u001b[39;00m\n",
      "File \u001b[0;32m~/anaconda3/envs/wanglei/lib/python3.10/site-packages/transformers/utils/hub.py:462\u001b[0m, in \u001b[0;36mcached_file\u001b[0;34m(path_or_repo_id, filename, cache_dir, force_download, resume_download, proxies, token, revision, local_files_only, subfolder, repo_type, user_agent, _raise_exceptions_for_gated_repo, _raise_exceptions_for_missing_entries, _raise_exceptions_for_connection_errors, _commit_hash, **deprecated_kwargs)\u001b[0m\n\u001b[1;32m    460\u001b[0m     \u001b[38;5;28;01mraise\u001b[39;00m \u001b[38;5;167;01mEnvironmentError\u001b[39;00m(\u001b[38;5;124mf\u001b[39m\u001b[38;5;124m\"\u001b[39m\u001b[38;5;124mThere was a specific connection error when trying to load \u001b[39m\u001b[38;5;132;01m{\u001b[39;00mpath_or_repo_id\u001b[38;5;132;01m}\u001b[39;00m\u001b[38;5;124m:\u001b[39m\u001b[38;5;130;01m\\n\u001b[39;00m\u001b[38;5;132;01m{\u001b[39;00merr\u001b[38;5;132;01m}\u001b[39;00m\u001b[38;5;124m\"\u001b[39m)\n\u001b[1;32m    461\u001b[0m \u001b[38;5;28;01mexcept\u001b[39;00m HFValidationError \u001b[38;5;28;01mas\u001b[39;00m e:\n\u001b[0;32m--> 462\u001b[0m     \u001b[38;5;28;01mraise\u001b[39;00m \u001b[38;5;167;01mEnvironmentError\u001b[39;00m(\n\u001b[1;32m    463\u001b[0m         \u001b[38;5;124mf\u001b[39m\u001b[38;5;124m\"\u001b[39m\u001b[38;5;124mIncorrect path_or_model_id: \u001b[39m\u001b[38;5;124m'\u001b[39m\u001b[38;5;132;01m{\u001b[39;00mpath_or_repo_id\u001b[38;5;132;01m}\u001b[39;00m\u001b[38;5;124m'\u001b[39m\u001b[38;5;124m. Please provide either the path to a local folder or the repo_id of a model on the Hub.\u001b[39m\u001b[38;5;124m\"\u001b[39m\n\u001b[1;32m    464\u001b[0m     ) \u001b[38;5;28;01mfrom\u001b[39;00m \u001b[38;5;21;01me\u001b[39;00m\n\u001b[1;32m    465\u001b[0m \u001b[38;5;28;01mreturn\u001b[39;00m resolved_file\n",
      "\u001b[0;31mOSError\u001b[0m: Incorrect path_or_model_id: '/home/ssm/models/pythia2.8b_choose'. Please provide either the path to a local folder or the repo_id of a model on the Hub."
     ]
    }
   ],
   "source": [
    "os.environ['TOKENIZERS_PARALLELISM'] = 'false'\n",
    "os.environ['CUDA_VISIBLE_DEVICES'] = '1'\n",
    "model_name_or_path = \"/home/ssm/models/pythia2.8b_choose\"\n",
    "model = vllm.LLM(\n",
    "    model=model_name_or_path,\n",
    "    tensor_parallel_size=1,\n",
    "    trust_remote_code=True,\n",
    "    gpu_memory_utilization=0.5,\n",
    "    dtype='float16'\n",
    ")\n",
    "tokenizer = transformers.GPTNeoXTokenizerFast.from_pretrained(model_name_or_path)"
   ]
  },
  {
   "cell_type": "markdown",
   "metadata": {},
   "source": [
    "##### 模型产生输出"
   ]
  },
  {
   "cell_type": "code",
   "execution_count": null,
   "metadata": {},
   "outputs": [
    {
     "name": "stdout",
     "output_type": "stream",
     "text": [
      "b h v : ℝ h₀ : 0 < 30 ∧ 0 < 13 / 2 ∧ 0 < 30 * (13 / 2) h₁ : v = 3⁻¹ * (30 * (13 / 2)) h₂ : b = 30 h₃ : h = 13 / 2 ⊢ 3⁻¹ * (30 * (13 / 2)) = 65\n",
      "['norm_num', 'rw [← mul_assoc]', 'norm_num [h]', 'rw [mul_assoc]', 'rw [mul_comm]', 'norm_num1', 'norm_num3', 'simp']\n",
      "[-0.32128265433311753, -0.39516371421132135, -0.4333076111350757, -0.4612277602291215, -0.5269824257078913, -0.5699598370367311, -0.7771070735776447, -1.1736234289904435]\n"
     ]
    }
   ],
   "source": [
    "#statement = \"n m : ℝ hnm : n = 2 * m ⊢ (2 * m + 1) / (m + 1) * (1 / 2) = 2 * (n + 1) / (n + 2) * (1 / 2)\"\n",
    "#statement = \"n A B C : ℕ h₀ : n = 3 ^ 17 + 3 ^ 10 h₁ : 11 ∣ n + 1 h₂ : List.Pairwise (fun x x_1 => x ≠ x_1) [A, B, C] h₃ : {A, B, C} ⊂ Finset.Icc 0 9 h₄ : Odd A ∧ Odd C h₅ : ¬3 ∣ B h₆ : digits 10 n = [B, A, B, C, C, A, C, B, A] ⊢ 100 * A + 10 * B + C = 129\"\n",
    "#statement = \"b h v : ℝ h₀ : 0 < b ∧ 0 < h ∧ 0 < v h₁ : v = 1 / 3 * (b * h) h₂ : b = 30 h₃ : h = 13 / 2 ⊢ v = 65\"\n",
    "statement = \"b h v : ℝ h₀ : 0 < 30 ∧ 0 < 13 / 2 ∧ 0 < 30 * (13 / 2) h₁ : v = 3⁻¹ * (30 * (13 / 2)) h₂ : b = 30 h₃ : h = 13 / 2 ⊢ 3⁻¹ * (30 * (13 / 2)) = 65\"\n",
    "\n",
    "texts, scores = Lean4Python.generate_vllm(Lean4Python._prompt_proofstep(statement), model, tokenizer, \n",
    "                              temperatures=[0], num_samples=8, stop=tokenizer.eos_token)\n",
    "print(statement)\n",
    "print(texts)\n",
    "print(scores)"
   ]
  },
  {
   "cell_type": "markdown",
   "metadata": {},
   "source": [
    "##### 清空证明目标并重新指定证明目标"
   ]
  },
  {
   "cell_type": "code",
   "execution_count": null,
   "metadata": {},
   "outputs": [
    {
     "name": "stdout",
     "output_type": "stream",
     "text": [
      "sid: 0\n",
      "tacticState: n A B C : ℕ\n",
      "h₀ : n = 3 ^ 17 + 3 ^ 10\n",
      "h₁ : 11 ∣ n + 1\n",
      "h₂ : List.Pairwise (fun x x_1 => x ≠ x_1) [A, B, C]\n",
      "h₃ : {A, B, C} ⊂ Icc 0 9\n",
      "h₄ : Odd A ∧ Odd C\n",
      "h₅ : ¬3 ∣ B\n",
      "h₆ : sorryAx (List ℕ) true = [B, A, B, C, C, A, C, B, A]\n",
      "⊢ 100 * A + 10 * B + C = 129\n",
      "error: None\n"
     ]
    }
   ],
   "source": [
    "lean.clear_goal()\n",
    "init_state = lean.start_goal(\"(n A B C : ℕ) (h₀ : n = 3 ^ 17 + 3 ^ 10) (h₁ : 11 ∣ n + 1)(h₂ : [A, B, C].Pairwise (· ≠ ·)) (h₃ : {A, B, C} ⊂ Finset.Icc 0 9) (h₄ : Odd A ∧ Odd C)(h₅ : ¬3 ∣ B) (h₆ : Nat.digits 10 n = [B, A, B, C, C, A, C, B, A]) : 100 * A + 10 * B + C = 129\")\n",
    "init_state.print()"
   ]
  },
  {
   "cell_type": "code",
   "execution_count": null,
   "metadata": {},
   "outputs": [
    {
     "name": "stdout",
     "output_type": "stream",
     "text": [
      "['norm_num [h₆]\\n  norm_num [h₅]\\n  norm_num [h₆]', 'norm_num [h₆]\\n  norm_num [h₅]\\n  norm_num [h₅]', 'norm_num [h₆]\\n  norm_num [h₆]\\n  norm_num [h₆]', 'norm_num [h₆]\\n  norm_num [h₅]\\n  norm_num', 'norm_num [h₆]\\n  norm_num [h₅]', 'norm_num [h₆]', 'rw h₆ h₅', 'rw h₆']\n",
      "[-0.35634469091872173, -0.3888711123115078, -0.38951303713236424, -0.41817394055154483, -0.48160612055002466, -0.6919377764893903, -0.8444669029704528, -1.108086042664945]\n"
     ]
    }
   ],
   "source": [
    "statement = init_state.getTacticState()\n",
    "texts, scores = Lean4Python.generate_vllm(Lean4Python._prompt_proofstep(statement), model, tokenizer, \n",
    "                              temperatures=[0], num_samples=8, stop=tokenizer.eos_token)\n",
    "print(texts)\n",
    "print(scores)"
   ]
  },
  {
   "cell_type": "markdown",
   "metadata": {},
   "source": [
    "##### 定理证明搜索"
   ]
  },
  {
   "cell_type": "code",
   "execution_count": null,
   "metadata": {},
   "outputs": [
    {
     "name": "stderr",
     "output_type": "stream",
     "text": [
      "  0%|          | 1/1000000 [00:00<104:25:04,  2.66it/s]"
     ]
    },
    {
     "name": "stdout",
     "output_type": "stream",
     "text": [
      "['norm_num [sorryAx] at h₆', 'norm_num [h₆]', 'norm_num [sorryAx]', 'norm_num at h₆', 'rw [sorryAx] at h₆', 'norm_num [A, B, C]', 'rw [← h₆]', 'norm_num1 at h₆', 'simp [h₆]', 'norm_num', 'norm_num1', 'rfl', 'congr 1', 'decide', 'simp', 'congr']\n"
     ]
    },
    {
     "name": "stderr",
     "output_type": "stream",
     "text": [
      "\n"
     ]
    }
   ],
   "source": [
    "Lean4Python.search(init_state, lean.leangym, model, tokenizer)"
   ]
  },
  {
   "cell_type": "markdown",
   "metadata": {},
   "source": [
    "##### 清空环境并重新指定Lean4的项目环境"
   ]
  },
  {
   "cell_type": "code",
   "execution_count": null,
   "metadata": {},
   "outputs": [],
   "source": [
    "lean.clear()\n",
    "lean = Lean4Python.Lean4Python(\"/home/ssm/Lean4/Theorem\")"
   ]
  },
  {
   "cell_type": "code",
   "execution_count": null,
   "metadata": {},
   "outputs": [],
   "source": [
    "lean.import_file(\"import Mathlib.Data.Real.Basic\")\n",
    "lean.import_file(\"import Theorem.example_separate.add_div_two\")\n",
    "lean.import_file(\"open Nat\")\n",
    "lean.import_file(\"open Finset\")\n",
    "lean.import_file(\"open BigOperators\")"
   ]
  },
  {
   "cell_type": "code",
   "execution_count": null,
   "metadata": {},
   "outputs": [
    {
     "name": "stdout",
     "output_type": "stream",
     "text": [
      "['import Mathlib.Data.Real.Basic', 'import Theorem.example_separate.add_div_two', 'open Nat', 'open Finset', 'open BigOperators']\n"
     ]
    }
   ],
   "source": [
    "print(lean.import_content)"
   ]
  },
  {
   "cell_type": "code",
   "execution_count": null,
   "metadata": {},
   "outputs": [],
   "source": [
    "init_state = lean.start_goal(\": ∑ k in Ico 1 (n + 1), k * choose (n-1) (k-1) = ∑ l in Ico 0 n, (l + 1) * choose (n-1) l\")"
   ]
  },
  {
   "cell_type": "code",
   "execution_count": null,
   "metadata": {},
   "outputs": [
    {
     "name": "stderr",
     "output_type": "stream",
     "text": [
      "  0%|          | 0/1000000 [00:00<?, ?it/s]"
     ]
    },
    {
     "name": "stdout",
     "output_type": "stream",
     "text": [
      "['rw [sum_Ico_eq_sub _ (Nat.lt_succ_self _), sum_sub_distrib]', 'rw[sum_Ico_eq_sum_range]', 'rw [sum_Ico_eq_sub _]', 'rw [sum_Ico_eq_sum_range]', 'rw [Ico_choose_eq_Ico_choose_add]', 'rw[Ico_choose_eq_Ico_choose_add]', 'rw[sum_Ico_eq_sub _]', 'rw [← Nat.Ico_choose_eq_Ico_choose_add]', 'rw [← Nat.Ico_choose_eq_Ico]', 'have : 0 < n := by linarith', 'rw [sum_Ico_eq_sub _ (by simp)]', 'have : 1 ≤ n := by linarith', 'rw[sum_congr rfl]', 'rw[sum_Ico_eq]', 'simp', 'cases n']\n"
     ]
    },
    {
     "name": "stderr",
     "output_type": "stream",
     "text": [
      "  0%|          | 1/1000000 [00:00<216:45:38,  1.28it/s]"
     ]
    },
    {
     "name": "stdout",
     "output_type": "stream",
     "text": [
      "['simp', 'rw [sum_Ico_eq_sum_range]', \"refine' sum_congr rfl fun y _ => _\", 'rw[sum_Ico_eq_sum_range]', 'rw [sum_Ico_eq_sub _]', 'rw [sum_range_add_mul]', 'rw [sum_range_add]', 'rw [sum_range_succ]', 'simp [sum_range_add]', 'rw [range_sub_one]', 'rw[sum_range_add]', 'rw[range_sub_one]', 'rw [Nat.sub_one]', 'congr 1', 'rfl', 'congr']\n"
     ]
    },
    {
     "name": "stderr",
     "output_type": "stream",
     "text": [
      "  0%|          | 2/1000000 [00:01<188:09:34,  1.48it/s]"
     ]
    },
    {
     "name": "stdout",
     "output_type": "stream",
     "text": [
      "['simp', 'rw [sum_Ico_eq_sum_range]', \"refine' sum_congr rfl fun y _ => _\", 'rw[sum_Ico_eq_sum_range]', 'rw [sum_Ico_eq_sub _]', 'rw [sum_range_add_mul]', 'rw [sum_range_add]', 'rw [sum_range_succ]', 'simp [sum_range_add]', 'rw [range_sub_one]', 'rw[sum_range_add]', 'rw[range_sub_one]', 'rw [Nat.sub_one]', 'congr 1', 'rfl', 'congr']\n"
     ]
    },
    {
     "name": "stderr",
     "output_type": "stream",
     "text": [
      "  0%|          | 3/1000000 [00:01<171:43:13,  1.62it/s]"
     ]
    },
    {
     "name": "stdout",
     "output_type": "stream",
     "text": [
      "['rw [Ico_choose_eq_Ico_choose_add]', 'rw [sum_Ico_eq_sub _]', 'rw [Ico_choose_eq_range_choose]', 'rw [Ico_choose_eq_range]', 'rw [Ico_choose_eq]', 'rw [sum_Ico_eq_sum_range]', 'rw [Finset.sum_add_distrib]', 'rw [sum_Ico_eq_subtype]', 'rw [Finset.sum]', 'simp', 'simp [Finset.sum]', 'rw [Ico_choose]', 'congr 1', 'congr', 'rfl', 'symm']\n"
     ]
    },
    {
     "name": "stderr",
     "output_type": "stream",
     "text": [
      "  0%|          | 5/1000000 [00:03<174:26:54,  1.59it/s]"
     ]
    },
    {
     "name": "stdout",
     "output_type": "stream",
     "text": [
      "[\"refine' sum_congr rfl fun x hx => _\", \"refine' sum_congr rfl fun x _ => _\", \"refine' sum_congr rfl fun y _ => _\", 'rw [add_mul]', 'rw [sum_congr rfl]', 'rw [add_mul, one_mul]', 'rw [sum_add_distrib]', 'rw [← mul_sum]', 'apply sum_congr rfl', 'rw [mul_comm]', 'simp [add_mul]', 'rw[add_mul]', 'rw [mul_sum]', 'simp', 'congr 1', 'rfl']\n"
     ]
    },
    {
     "name": "stderr",
     "output_type": "stream",
     "text": [
      "  0%|          | 6/1000000 [00:03<159:21:25,  1.74it/s]"
     ]
    },
    {
     "name": "stdout",
     "output_type": "stream",
     "text": [
      "[\"refine' sum_congr rfl fun x hx => _\", \"refine' sum_congr rfl fun x _ => _\", \"refine' sum_congr rfl fun y _ => _\", 'rw [add_mul]', 'rw [sum_congr rfl]', 'rw [add_mul, one_mul]', 'rw [sum_add_distrib]', 'rw [← mul_sum]', 'apply sum_congr rfl', 'rw [mul_comm]', 'simp [add_mul]', 'rw[add_mul]', 'rw [mul_sum]', 'simp', 'congr 1', 'rfl']\n",
      "['simp', 'rw [Nat.sub_zero]', 'rw[Nat.sub_zero]', 'rw [sum_range_succ]', 'simp only [Nat.sub_zero]', 'simp [Nat.sub_zero]', 'simp [Nat.sub_self]', 'rw [Nat.sub_self]', 'rw [sum_range_succ_add]', 'rw [range_sub_one]', 'rw[sum_range_succ]', 'rw[range_sub_one]', 'rw [tsub_zero]', 'rw [sub_zero]', 'congr 1', 'rfl']\n"
     ]
    },
    {
     "name": "stderr",
     "output_type": "stream",
     "text": [
      "  0%|          | 7/1000000 [00:04<167:44:02,  1.66it/s]"
     ]
    },
    {
     "name": "stdout",
     "output_type": "stream",
     "text": [
      "['simp', 'rw [Nat.sub_zero]', 'rw[Nat.sub_zero]', 'rw [sum_range_succ]', 'simp only [Nat.sub_zero]', 'simp [Nat.sub_zero]', 'simp [Nat.sub_self]', 'rw [Nat.sub_self]', 'rw [sum_range_succ_add]', 'rw [range_sub_one]', 'rw[sum_range_succ]', 'rw[range_sub_one]', 'rw [tsub_zero]', 'rw [sub_zero]', 'congr 1', 'rfl']\n"
     ]
    },
    {
     "name": "stderr",
     "output_type": "stream",
     "text": [
      "  0%|          | 8/1000000 [00:04<168:30:36,  1.65it/s]"
     ]
    },
    {
     "name": "stdout",
     "output_type": "stream",
     "text": [
      "['simp', 'rw [Nat.sub_zero]', 'rw[Nat.sub_zero]', 'rw [sum_range_succ]', 'simp only [Nat.sub_zero]', 'simp [Nat.sub_zero]', 'simp [Nat.sub_self]', 'rw [Nat.sub_self]', 'rw [sum_range_succ_add]', 'rw [range_sub_one]', 'rw[sum_range_succ]', 'rw[range_sub_one]', 'rw [tsub_zero]', 'rw [sub_zero]', 'congr 1', 'rfl']\n"
     ]
    },
    {
     "name": "stderr",
     "output_type": "stream",
     "text": [
      "  0%|          | 9/1000000 [00:05<169:09:39,  1.64it/s]"
     ]
    },
    {
     "name": "stdout",
     "output_type": "stream",
     "text": [
      "['simp', 'rw [Nat.sub_zero]', 'rw[Nat.sub_zero]', 'rw [sum_range_succ]', 'simp only [Nat.sub_zero]', 'simp [Nat.sub_zero]', 'simp [Nat.sub_self]', 'rw [Nat.sub_self]', 'rw [sum_range_succ_add]', 'rw [range_sub_one]', 'rw[sum_range_succ]', 'rw[range_sub_one]', 'rw [tsub_zero]', 'rw [sub_zero]', 'congr 1', 'rfl']\n"
     ]
    },
    {
     "name": "stderr",
     "output_type": "stream",
     "text": [
      "  0%|          | 11/1000000 [00:06<156:00:07,  1.78it/s]"
     ]
    },
    {
     "name": "stdout",
     "output_type": "stream",
     "text": [
      "['rw [add_mul, mul_assoc]', 'rw [add_mul]', 'rw [add_mul, one_mul, add_assoc]', 'rw [add_mul, one_mul]', 'rw [Nat.choose_mul_eq_mul_choose]', 'rw[add_mul, mul_assoc]', 'rw [Nat.add_mul, Nat.add_mul]', 'rw[add_mul]', 'rw[add_mul, one_mul]', 'rw [Nat.add_mul]', 'rw[Nat.add_mul]', 'rw [add_mul, Nat.one_mul]', 'rw [add_mul, mul_comm]', 'rw [Nat.choose_mul hx]', 'congr 1', 'simp']\n"
     ]
    },
    {
     "name": "stderr",
     "output_type": "stream",
     "text": [
      "  0%|          | 12/1000000 [00:07<142:48:17,  1.95it/s]"
     ]
    },
    {
     "name": "stdout",
     "output_type": "stream",
     "text": [
      "['rw [add_mul, mul_assoc]', 'rw [add_mul]', 'rw [add_mul, one_mul, add_assoc]', 'rw [add_mul, one_mul]', 'rw [Nat.choose_mul_eq_mul_choose]', 'rw[add_mul, mul_assoc]', 'rw [Nat.add_mul, Nat.add_mul]', 'rw[add_mul]', 'rw[add_mul, one_mul]', 'rw [Nat.add_mul]', 'rw[Nat.add_mul]', 'rw [add_mul, Nat.one_mul]', 'rw [add_mul, mul_comm]', 'rw [Nat.choose_mul hx]', 'congr 1', 'simp']\n"
     ]
    },
    {
     "name": "stderr",
     "output_type": "stream",
     "text": [
      "  0%|          | 13/1000000 [00:07<135:25:37,  2.05it/s]"
     ]
    },
    {
     "name": "stdout",
     "output_type": "stream",
     "text": [
      "['rw [add_mul, mul_assoc]', 'rw [add_mul, one_mul, add_assoc]', 'rw [add_mul, one_mul]', 'rw [add_mul, one_mul, choose_succ_succ]', 'rw [add_mul]', 'rw [Nat.add_mul]', 'rw[add_mul, mul_assoc]', 'rw[Nat.add_mul]', 'rw[add_mul, one_mul]', 'rw[add_mul]', 'rw [Nat.choose_succ_succ]', 'rw [add_mul, mul_comm]', 'rw[Nat.choose_succ_succ]', 'simp [add_mul]', 'simp', 'congr 1']\n"
     ]
    },
    {
     "name": "stderr",
     "output_type": "stream",
     "text": [
      "  0%|          | 14/1000000 [00:07<129:06:59,  2.15it/s]"
     ]
    },
    {
     "name": "stdout",
     "output_type": "stream",
     "text": [
      "['rw [sum_Ico_eq_sum_range]', 'rw [sum_Ico_eq_sub _]', 'rw [Ico_choose_eq_range]', 'rw[sum_Ico_eq_sum_range]', 'rw [Ico_choose_eq_range_choose]', 'rw [range_eq_Ico]', 'rw [Finset.range_eq_Ico]', 'rw [sum_range_add_mul_choose]', 'rw[Ico_choose_eq_range]', 'rw [← range_eq_Ico]', 'rw [sum_congr rfl]', 'rw[range_eq_Ico]', 'rw [sum_range_add_mul]', 'rw [sum_range_add]', 'apply sum_congr rfl', 'simp']\n"
     ]
    },
    {
     "name": "stderr",
     "output_type": "stream",
     "text": [
      "  0%|          | 15/1000000 [00:08<126:02:15,  2.20it/s]"
     ]
    },
    {
     "name": "stdout",
     "output_type": "stream",
     "text": [
      "['rw [add_mul, mul_assoc]', 'rw [add_mul, one_mul, add_assoc]', 'rw [add_mul, one_mul]', 'rw [add_mul, one_mul, choose_succ_succ]', 'rw [add_mul]', 'rw [Nat.add_mul]', 'rw[add_mul, mul_assoc]', 'rw[Nat.add_mul]', 'rw[add_mul, one_mul]', 'rw[add_mul]', 'rw [Nat.choose_succ_succ]', 'rw [add_mul, mul_comm]', 'rw[Nat.choose_succ_succ]', 'simp [add_mul]', 'simp', 'congr 1']\n"
     ]
    },
    {
     "name": "stderr",
     "output_type": "stream",
     "text": [
      "  0%|          | 16/1000000 [00:08<123:46:57,  2.24it/s]"
     ]
    },
    {
     "name": "stdout",
     "output_type": "stream",
     "text": [
      "['rw [add_mul, mul_assoc]', 'rw [add_mul, one_mul, add_assoc]', 'rw [add_mul]', 'rw [add_mul, one_mul]', 'rw [Nat.add_mul]', 'rw [Nat.choose_mul_eq_mul_choose]', 'rw [Nat.add_mul, Nat.add_mul]', 'rw[Nat.add_mul]', 'rw[add_mul, mul_assoc]', 'rw[add_mul]', 'rw[add_mul, one_mul]', 'rw [Nat.choose_succ_succ]', 'simp [add_mul]', 'simp', 'congr 1', 'congr']\n"
     ]
    },
    {
     "name": "stderr",
     "output_type": "stream",
     "text": [
      "  0%|          | 17/1000000 [00:09<120:46:59,  2.30it/s]"
     ]
    },
    {
     "name": "stdout",
     "output_type": "stream",
     "text": [
      "['rw [add_mul, mul_assoc]', 'rw [add_mul, one_mul, add_assoc]', 'rw [add_mul]', 'rw [add_mul, one_mul]', 'rw [Nat.add_mul]', 'rw [Nat.choose_mul_eq_mul_choose]', 'rw [Nat.add_mul, Nat.add_mul]', 'rw[Nat.add_mul]', 'rw[add_mul, mul_assoc]', 'rw[add_mul]', 'rw[add_mul, one_mul]', 'rw [Nat.choose_succ_succ]', 'simp [add_mul]', 'simp', 'congr 1', 'congr']\n"
     ]
    },
    {
     "name": "stderr",
     "output_type": "stream",
     "text": [
      "  0%|          | 18/1000000 [00:09<122:00:03,  2.28it/s]"
     ]
    },
    {
     "name": "stdout",
     "output_type": "stream",
     "text": [
      "[\"refine' sum_congr rfl fun x hx => _\", \"refine' sum_congr rfl fun x _ => _\", \"refine' sum_congr rfl fun y _ => _\", 'rw [add_mul]', 'rw [sum_congr rfl]', 'rw [add_mul, one_mul]', 'rw [sum_add_distrib]', 'rw [← mul_sum]', 'apply sum_congr rfl', 'rw [mul_comm]', 'simp [add_mul]', 'rw[add_mul]', 'rw [mul_sum]', 'simp', 'congr 1', 'rfl']\n"
     ]
    },
    {
     "name": "stderr",
     "output_type": "stream",
     "text": [
      "  0%|          | 19/1000000 [00:09<121:18:00,  2.29it/s]"
     ]
    },
    {
     "name": "stdout",
     "output_type": "stream",
     "text": [
      "[\"refine' sum_congr rfl fun x hx => _\", \"refine' sum_congr rfl fun x _ => _\", \"refine' sum_congr rfl fun y _ => _\", 'rw [add_mul]', 'rw [sum_congr rfl]', 'rw [add_mul, one_mul]', 'rw [sum_add_distrib]', 'rw [← mul_sum]', 'apply sum_congr rfl', 'rw [mul_comm]', 'simp [add_mul]', 'rw[add_mul]', 'rw [mul_sum]', 'simp', 'congr 1', 'rfl']\n",
      "['simp', 'rw [Nat.range_eq_Ico]', 'rw [Finset.range_eq_Ico]', 'rw [range_sub_one]', 'rw [range_eq_Ico]', 'rw [sum_range_succ]', 'rw [sum_range_add]', 'rw [Nat.range_sub_one]', 'rw [range_add_one]', 'rw [range_add]', 'rw [range_one]', 'congr 1', 'congr', 'rfl', 'symm', 'swap']\n"
     ]
    },
    {
     "name": "stderr",
     "output_type": "stream",
     "text": [
      "  0%|          | 21/1000000 [00:10<127:07:25,  2.19it/s]"
     ]
    },
    {
     "name": "stdout",
     "output_type": "stream",
     "text": [
      "['rw [sum_Ico_eq_sum_range]', \"refine' sum_congr rfl fun y _ => _\", 'rw [sum_Ico_eq_sub _]', 'rw[sum_Ico_eq_sum_range]', \"refine' sum_congr rfl fun k hk => _\", 'rw [Ico_choose_eq_range_choose]', 'rw [range_pred_eq_Ico]', 'rw [Ico_choose_eq_range]', 'rw [sum_congr rfl]', 'rw [range_succ_eq_Ico]', 'rw [Finset.sum_range_add]', 'rw [sum_range_add]', 'rw [range_pred_succ]', 'rw [add_mul]', 'simp', 'rfl']\n"
     ]
    },
    {
     "name": "stderr",
     "output_type": "stream",
     "text": [
      "  0%|          | 22/1000000 [00:11<128:13:47,  2.17it/s]"
     ]
    },
    {
     "name": "stdout",
     "output_type": "stream",
     "text": [
      "['rw [sum_Ico_eq_sum_range]', \"refine' sum_congr rfl fun y _ => _\", 'rw [sum_Ico_eq_sub _]', 'rw[sum_Ico_eq_sum_range]', \"refine' sum_congr rfl fun k hk => _\", 'rw [Ico_choose_eq_range_choose]', 'rw [range_pred_eq_Ico]', 'rw [Ico_choose_eq_range]', 'rw [sum_congr rfl]', 'rw [range_succ_eq_Ico]', 'rw [Finset.sum_range_add]', 'rw [sum_range_add]', 'rw [range_pred_succ]', 'rw [add_mul]', 'simp', 'rfl']\n",
      "['rw [Ico_choose_eq_Ico_choose_add]', 'rw [Ico_choose_eq_range_choose]', 'rw [Ico_choose_eq_range]', 'congr 1', 'rw [Finset.sum_add_distrib]', 'rw [sum_Ico_eq_sub _]', 'rw [Ico_choose_eq]', 'rw [sum_Ico_add]', 'apply sum_congr rfl', 'rw [Ico_choose]', 'simp', 'simp [add_mul]', 'congr', 'congr 2', 'symm', 'swap']\n"
     ]
    },
    {
     "name": "stderr",
     "output_type": "stream",
     "text": [
      "  0%|          | 23/1000000 [00:12<146:05:08,  1.90it/s]"
     ]
    },
    {
     "name": "stdout",
     "output_type": "stream",
     "text": [
      "['simp', \"refine' sum_congr rfl fun k hk => _\", 'rw [sum_range_add]', 'rw [sum_congr rfl]', 'have : 1 ≤ n := by linarith', 'rw[sum_congr rfl]', 'rw[sum_range_add]', 'simp [add_assoc]', 'rw [add_right_comm]', 'rw [sum_range_succ]', 'simp [add_mul]', 'rw [range_sub_one]', 'rw [add_assoc]', 'congr 1', 'rfl', 'congr']\n"
     ]
    },
    {
     "name": "stderr",
     "output_type": "stream",
     "text": [
      "  0%|          | 25/1000000 [00:13<154:31:41,  1.80it/s]"
     ]
    },
    {
     "name": "stdout",
     "output_type": "stream",
     "text": [
      "['rw [Multiset.map_map]', 'rw [Ico_choose_eq_Ico_choose_add]', 'rw [Multiset.map_fst_choose]', 'rw [Finset.sum_map_add]', 'simp [Finset.sum_map_add]', 'rw [Ico_choose_eq_range]', 'rw [Multiset.map_fst_add]', 'rw [Finset.sum_map]', 'rw [Finset.sum_map_val]', 'rw [Ico_val]', 'rw [Ico_choose_eq]', 'rw [Multiset.sum_map]', 'simp', 'congr 1', 'rfl', 'congr']\n",
      "['simp', 'simp (config := { contextual := true }) [add_mul]', 'simp (config := { contextual := true }) [mul_comm]', 'simp [add_mul, mul_assoc]', 'simp (config := { contextual := true })', 'simp [add_mul]', 'simp [mul_comm]', 'intro x hx', 'rw [add_mul]', 'rintro x hx', 'intros x hx', 'intro m hm', 'intro k hk', 'intro i _', 'intro a ha', 'intros']\n"
     ]
    },
    {
     "name": "stderr",
     "output_type": "stream",
     "text": [
      "  0%|          | 26/1000000 [00:14<172:53:04,  1.61it/s]"
     ]
    },
    {
     "name": "stdout",
     "output_type": "stream",
     "text": [
      "['simp', \"refine' sum_congr rfl fun k hk => _\", 'rw [sum_range_add]', 'rw [sum_congr rfl]', 'have : 1 ≤ n := by linarith', 'rw[sum_congr rfl]', 'rw[sum_range_add]', 'simp [add_assoc]', 'rw [add_right_comm]', 'rw [sum_range_succ]', 'simp [add_mul]', 'rw [range_sub_one]', 'rw [add_assoc]', 'congr 1', 'rfl', 'congr']\n"
     ]
    },
    {
     "name": "stderr",
     "output_type": "stream",
     "text": [
      "  0%|          | 27/1000000 [00:14<185:45:15,  1.50it/s]"
     ]
    },
    {
     "name": "stdout",
     "output_type": "stream",
     "text": [
      "['simp', 'simp (config := { contextual := true }) [add_mul]', 'simp (config := { contextual := true }) [mul_comm]', 'simp [add_mul, mul_assoc]', 'simp (config := { contextual := true })', 'simp [add_mul]', 'simp [mul_comm]', 'intro x hx', 'rw [add_mul]', 'rintro x hx', 'intros x hx', 'intro m hm', 'intro k hk', 'intro i _', 'intro a ha', 'intros']\n"
     ]
    },
    {
     "name": "stderr",
     "output_type": "stream",
     "text": [
      "  0%|          | 29/1000000 [00:16<176:33:09,  1.57it/s]"
     ]
    },
    {
     "name": "stdout",
     "output_type": "stream",
     "text": [
      "['rw [Ico_choose_eq_Ico_choose_add]', 'rw [Ico_choose_eq_range]', 'rw [sum_Ico_eq_sum_range]', 'rw [sum_Ico_eq_sub _]', 'rw [Ico_choose_eq]', 'rw [Ico_choose_eq_range_choose]', 'rw [Finset.sum_range_add]', 'rw [range_eq_Ico]', 'simp', 'rw [Finset.sum]', 'rw [sum_Ico_choose]', 'rw [Finset.sum_range]', 'rw [Ico_choose]', 'congr 1', 'congr', 'rfl']\n",
      "['simp', \"refine' sum_congr rfl fun k hk => _\", 'rw [sum_range_add]', 'rw [sum_congr rfl]', 'have : 1 ≤ n := by linarith', 'rw[sum_congr rfl]', 'rw[sum_range_add]', 'simp [add_assoc]', 'rw [add_right_comm]', 'rw [sum_range_succ]', 'simp [add_mul]', 'rw [range_sub_one]', 'rw [add_assoc]', 'congr 1', 'rfl', 'congr']\n"
     ]
    },
    {
     "name": "stderr",
     "output_type": "stream",
     "text": [
      "  0%|          | 30/1000000 [00:16<188:42:51,  1.47it/s]"
     ]
    },
    {
     "name": "stdout",
     "output_type": "stream",
     "text": [
      "['simp', \"refine' sum_congr rfl fun k hk => _\", 'rw [sum_range_add]', 'rw [sum_congr rfl]', 'have : 1 ≤ n := by linarith', 'rw[sum_congr rfl]', 'rw[sum_range_add]', 'simp [add_assoc]', 'rw [add_right_comm]', 'rw [sum_range_succ]', 'simp [add_mul]', 'rw [range_sub_one]', 'rw [add_assoc]', 'congr 1', 'rfl', 'congr']\n"
     ]
    },
    {
     "name": "stderr",
     "output_type": "stream",
     "text": [
      "  0%|          | 31/1000000 [00:17<192:57:14,  1.44it/s]"
     ]
    },
    {
     "name": "stdout",
     "output_type": "stream",
     "text": [
      "['rw [Multiset.map_map]', 'rw [Multiset.range_eq_Ico]', 'simp', 'simp_rw [Multiset.map_map]', 'simp [Finset.range_eq_Ico]', 'rw [Finset.range_eq_Ico]', 'rw [Multiset.map_range]', 'congr 1', 'simp (config := { contextual := true })', 'apply sum_congr rfl', 'congr', 'simp_all', 'rfl', 'congr 2', 'simp only', 'dsimp']\n"
     ]
    },
    {
     "name": "stderr",
     "output_type": "stream",
     "text": [
      "  0%|          | 33/1000000 [00:18<156:32:10,  1.77it/s]"
     ]
    },
    {
     "name": "stdout",
     "output_type": "stream",
     "text": [
      "['rw [add_mul, mul_assoc]', 'rw [one_mul, mul_assoc]', 'rw [Nat.one_mul]', 'rw [one_mul, add_mul]', 'rw [add_mul, one_mul]', 'rw [add_mul]', 'rw [Nat.add_mul]', 'rw [one_mul, mul_add]', 'rw [one_mul]', 'rw[Nat.add_mul]', 'rw[Nat.one_mul]', 'rw[add_mul]', 'rw [mul_assoc]', 'rw [mul_comm]', 'simp', 'congr 1']\n",
      "['simp', 'simp (config := { contextual := true }) [add_mul]', 'simp (config := { contextual := true }) [mul_comm]', 'simp [add_mul, mul_assoc]', 'simp (config := { contextual := true })', 'simp [add_mul]', 'simp [mul_comm]', 'intro x hx', 'rw [add_mul]', 'rintro x hx', 'intros x hx', 'intro m hm', 'intro k hk', 'intro i _', 'intro a ha', 'intros']\n"
     ]
    },
    {
     "name": "stderr",
     "output_type": "stream",
     "text": [
      "  0%|          | 35/1000000 [00:19<151:37:12,  1.83it/s]"
     ]
    },
    {
     "name": "stdout",
     "output_type": "stream",
     "text": [
      "['rw [add_mul, mul_assoc]', 'rw [Nat.sub_add_cancel hx]', 'rw [Nat.choose_mul hx]', 'rw [Nat.choose_succ_succ]', 'rw [Nat.choose_add_mul hx]', 'rw [Nat.add_mul]', 'rw [Nat.choose_mul_choose]', 'rw [add_mul]', 'rw [Nat.mul_assoc]', 'rw[Nat.add_mul]', 'rw [mul_comm]', 'rw [mul_assoc]', 'rw[add_mul]', 'rw[mul_comm]', 'simp', 'congr 1']\n"
     ]
    },
    {
     "name": "stderr",
     "output_type": "stream",
     "text": [
      "  0%|          | 36/1000000 [00:20<136:08:12,  2.04it/s]"
     ]
    },
    {
     "name": "stdout",
     "output_type": "stream",
     "text": [
      "['rw [add_mul, mul_assoc]', 'rw [one_mul, mul_assoc]', 'rw [Nat.one_mul]', 'rw [one_mul, add_mul]', 'rw [add_mul, one_mul]', 'rw [add_mul]', 'rw [Nat.add_mul]', 'rw [one_mul, mul_add]', 'rw [one_mul]', 'rw[Nat.add_mul]', 'rw[Nat.one_mul]', 'rw[add_mul]', 'rw [mul_assoc]', 'rw [mul_comm]', 'simp', 'congr 1']\n",
      "['simp', 'simp (config := { contextual := true }) [add_mul]', 'simp (config := { contextual := true }) [mul_comm]', 'simp [add_mul, mul_assoc]', 'simp (config := { contextual := true })', 'simp [add_mul]', 'simp [mul_comm]', 'intro x hx', 'rw [add_mul]', 'rintro x hx', 'intros x hx', 'intro m hm', 'intro k hk', 'intro i _', 'intro a ha', 'intros']\n"
     ]
    },
    {
     "name": "stderr",
     "output_type": "stream",
     "text": [
      "  0%|          | 38/1000000 [00:21<139:31:03,  1.99it/s]"
     ]
    },
    {
     "name": "stdout",
     "output_type": "stream",
     "text": [
      "['rw [add_mul, mul_assoc]', 'rw [Nat.sub_add_cancel hx]', 'rw [Nat.choose_mul hx]', 'rw [Nat.choose_succ_succ]', 'rw [Nat.choose_add_mul hx]', 'rw [Nat.add_mul]', 'rw [Nat.choose_mul_choose]', 'rw [add_mul]', 'rw [Nat.mul_assoc]', 'rw[Nat.add_mul]', 'rw [mul_comm]', 'rw [mul_assoc]', 'rw[add_mul]', 'rw[mul_comm]', 'simp', 'congr 1']\n",
      "['simp', \"refine' sum_congr rfl fun k hk => _\", 'rw [sum_range_add]', 'rw [sum_congr rfl]', 'have : 1 ≤ n := by linarith', 'rw[sum_congr rfl]', 'rw[sum_range_add]', 'simp [add_assoc]', 'rw [add_right_comm]', 'rw [sum_range_succ]', 'simp [add_mul]', 'rw [range_sub_one]', 'rw [add_assoc]', 'congr 1', 'rfl', 'congr']\n"
     ]
    },
    {
     "name": "stderr",
     "output_type": "stream",
     "text": [
      "  0%|          | 39/1000000 [00:22<158:39:56,  1.75it/s]"
     ]
    },
    {
     "name": "stdout",
     "output_type": "stream",
     "text": [
      "['rw [one_mul, mul_assoc]', 'rw [Nat.one_mul]', 'rw [one_mul]', 'rw[Nat.one_mul]', 'rw [add_assoc]', 'simp [mul_assoc]', 'congr 1', 'simp', 'rw[add_assoc]', 'rw [mul_assoc]', 'rw[one_mul]', 'rw [mul_comm]', 'ac_rfl', 'rfl', 'congr', 'ring']\n",
      "Theorem has proved!\n",
      "['rw[sum_Ico_eq_sum_range]', 'simp', \"refine' sum_congr rfl fun x hx => _\", 'rw [Nat.add_mul, Nat.add_mul]', 'ac_rfl']\n"
     ]
    },
    {
     "name": "stderr",
     "output_type": "stream",
     "text": [
      "\n"
     ]
    }
   ],
   "source": [
    "lean.tactics = Lean4Python.search(init_state, lean.leangym, model, tokenizer)"
   ]
  },
  {
   "cell_type": "markdown",
   "metadata": {},
   "source": [
    "##### 将定理写入到Lean4文件中"
   ]
  },
  {
   "cell_type": "code",
   "execution_count": null,
   "metadata": {},
   "outputs": [],
   "source": [
    "lean.write_into_file(theorem_name=\"test\")"
   ]
  }
 ],
 "metadata": {
  "kernelspec": {
   "display_name": "vllm",
   "language": "python",
   "name": "python3"
  },
  "language_info": {
   "codemirror_mode": {
    "name": "ipython",
    "version": 3
   },
   "file_extension": ".py",
   "mimetype": "text/x-python",
   "name": "python",
   "nbconvert_exporter": "python",
   "pygments_lexer": "ipython3",
   "version": "3.10.14"
  }
 },
 "nbformat": 4,
 "nbformat_minor": 2
}
